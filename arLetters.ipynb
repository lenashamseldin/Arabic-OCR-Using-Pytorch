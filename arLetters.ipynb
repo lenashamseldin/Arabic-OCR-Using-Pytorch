{
 "cells": [
  {
   "cell_type": "markdown",
   "id": "6cde76a0",
   "metadata": {},
   "source": [
    "# **Arabic Letters OCR**"
   ]
  },
  {
   "cell_type": "markdown",
   "id": "0e6e0db7",
   "metadata": {},
   "source": [
    "<h3 style=\"color:#000000;\">  Importing libraries </h3>"
   ]
  },
  {
   "cell_type": "code",
   "execution_count": 11,
   "id": "64d5f7ee",
   "metadata": {},
   "outputs": [],
   "source": [
    "import os\n",
    "import glob\n",
    "import shutil\n",
    "import random\n",
    "import torch\n",
    "import pandas as pd\n",
    "import numpy as np\n",
    "import matplotlib.pyplot as plt\n",
    "from torch.utils.data import Dataset, DataLoader\n",
    "from PIL import Image\n",
    "from torchvision import transforms, utils\n",
    "import torch.nn.functional as F\n",
    "import torch.nn as nn\n",
    "from torch.autograd import Variable\n",
    "import torchvision\n",
    "from torchvision import transforms, datasets\n",
    "from torch.utils.data import DataLoader, TensorDataset\n",
    "from torch import Tensor"
   ]
  },
  {
   "cell_type": "code",
   "execution_count": 2,
   "id": "ee83351d",
   "metadata": {},
   "outputs": [
    {
     "data": {
      "text/plain": [
       "'1.12.0'"
      ]
     },
     "execution_count": 2,
     "metadata": {},
     "output_type": "execute_result"
    }
   ],
   "source": [
    "torch.__version__"
   ]
  },
  {
   "cell_type": "markdown",
   "id": "62a3f64e",
   "metadata": {},
   "source": [
    "<h3 style=\"color:#000000;\">  Preparing Data </h3>"
   ]
  },
  {
   "cell_type": "code",
   "execution_count": 3,
   "id": "de467fc2",
   "metadata": {},
   "outputs": [],
   "source": [
    "root_dir = \"/Users/lena/Downloads/arLetters\"\n",
    "class_names = sorted((f for f in os.listdir(root_dir) if not f.startswith(\".\")), key=str.lower)\n",
    "if 'test' in class_names:\n",
    "    class_names.remove('test')\n",
    "print(class_names)\n",
    "if os.path.exists(os.path.join(root_dir, 'test' + '/')):\n",
    "    shutil.rmtree(os.path.join(root_dir, 'test' + '/'))\n",
    "    \n",
    "if os.path.isdir(os.path.join(root_dir, class_names[1])):\n",
    "    if not os.path.exists(os.path.join(root_dir, 'test')):\n",
    "        os.mkdir(os.path.join(root_dir, 'test'))\n",
    "\n",
    "    for i, d in enumerate(class_names):\n",
    "        os.rename(os.path.join(root_dir, d), os.path.join(root_dir, class_names[i]))\n",
    "\n",
    "    for c in class_names:\n",
    "        if not os.path.exists(os.path.join(root_dir, 'test', c)):\n",
    "            os.mkdir(os.path.join(root_dir, 'test', c))\n",
    "\n",
    "    for c in class_names:\n",
    "        images = [x for x in os.listdir(os.path.join(root_dir, c)) if x.lower().endswith('png')]\n",
    "        print(c)\n",
    "        #choose 496 random samples from each letter representing 20% of data for testing\n",
    "        selected_images = random.sample(images, 496)\n",
    "        for image in selected_images:\n",
    "            source_path = os.path.join(root_dir, c, image)\n",
    "            target_path = os.path.join(root_dir, 'test', c, image)\n",
    "            shutil.move(source_path, target_path)  "
   ]
  },
  {
   "cell_type": "markdown",
   "id": "5c3d38c9",
   "metadata": {},
   "source": [
    "<h3 style=\"color:#000000;\">  Creating Custom Dataset </h3>\n"
   ]
  },
  {
   "cell_type": "code",
   "execution_count": 4,
   "id": "3d8a0eb5",
   "metadata": {},
   "outputs": [],
   "source": [
    "class ARLettersDataset(torch.utils.data.Dataset):\n",
    "    def __init__(self, image_dirs, transform):\n",
    "        def get_images(class_name):\n",
    "            images = [x for x in os.listdir(image_dirs[class_name]) if x[-3:].lower().endswith('png')]\n",
    "            print(f'Found {len(images)} {class_name} examples')\n",
    "            return images\n",
    "        \n",
    "        self.images = {}\n",
    "        self.class_names = sorted((f for f in os.listdir(root_dir) if not f.startswith(\".\")), key=str.lower)\n",
    "        if 'test' in self.class_names:\n",
    "            self.class_names.remove('test')\n",
    "        for class_name in self.class_names:            \n",
    "            if(class_name != 'test'):\n",
    "                self.images[class_name] = get_images(class_name)\n",
    "            \n",
    "        self.image_dirs = image_dirs\n",
    "        self.transform = transform\n",
    "        \n",
    "    \n",
    "    def __len__(self): \n",
    "        return sum([len(self.images[class_name]) for class_name in self.class_names])\n",
    "    \n",
    "    \n",
    "    def __getitem__(self, index):\n",
    "        class_name = random.choice(self.class_names)\n",
    "        index = index % len(self.images[class_name])\n",
    "        image_name = self.images[class_name][index]\n",
    "        image_path = os.path.join(self.image_dirs[class_name], image_name)\n",
    "        image = Image.open(image_path).convert('RGB')\n",
    "        return self.transform(image), self.class_names.index(class_name)"
   ]
  },
  {
   "cell_type": "markdown",
   "id": "fee4f6c5",
   "metadata": {},
   "source": [
    "<h3 style=\"color:#000000;\">  Setting Transformations </h3>\n"
   ]
  },
  {
   "cell_type": "code",
   "execution_count": 5,
   "id": "96befa33",
   "metadata": {},
   "outputs": [],
   "source": [
    "train_transform = torchvision.transforms.Compose([\n",
    "    torchvision.transforms.Resize(size=(32, 32)),\n",
    "    torchvision.transforms.ToTensor(),\n",
    "    torchvision.transforms.Normalize(mean=[0.5], std=[0.5]),\n",
    "    torchvision.transforms.Grayscale()\n",
    "])\n",
    "\n",
    "test_transform = torchvision.transforms.Compose([\n",
    "    torchvision.transforms.Resize(size=(32, 32)),\n",
    "    torchvision.transforms.ToTensor(),\n",
    "    torchvision.transforms.Normalize([0.5], [0.5]),\n",
    "    torchvision.transforms.Grayscale()\n",
    "    \n",
    "])"
   ]
  },
  {
   "cell_type": "markdown",
   "id": "75a5d299",
   "metadata": {},
   "source": [
    "<h3 style=\"color:#000000;\">  Calling Custom Dataset </h3>\n"
   ]
  },
  {
   "cell_type": "code",
   "execution_count": 6,
   "id": "6c81eef2",
   "metadata": {},
   "outputs": [
    {
     "name": "stdout",
     "output_type": "stream",
     "text": [
      "ا : /Users/lena/Downloads/arLetters/ا\n",
      "ب : /Users/lena/Downloads/arLetters/ب\n",
      "ت : /Users/lena/Downloads/arLetters/ت\n",
      "ث : /Users/lena/Downloads/arLetters/ث\n",
      "ج : /Users/lena/Downloads/arLetters/ج\n",
      "ح : /Users/lena/Downloads/arLetters/ح\n",
      "خ : /Users/lena/Downloads/arLetters/خ\n",
      "د : /Users/lena/Downloads/arLetters/د\n",
      "ذ : /Users/lena/Downloads/arLetters/ذ\n",
      "ر : /Users/lena/Downloads/arLetters/ر\n",
      "ز : /Users/lena/Downloads/arLetters/ز\n",
      "س : /Users/lena/Downloads/arLetters/س\n",
      "ش : /Users/lena/Downloads/arLetters/ش\n",
      "ص : /Users/lena/Downloads/arLetters/ص\n",
      "ض : /Users/lena/Downloads/arLetters/ض\n",
      "ط : /Users/lena/Downloads/arLetters/ط\n",
      "ظ : /Users/lena/Downloads/arLetters/ظ\n",
      "ع : /Users/lena/Downloads/arLetters/ع\n",
      "غ : /Users/lena/Downloads/arLetters/غ\n",
      "ف : /Users/lena/Downloads/arLetters/ف\n",
      "ق : /Users/lena/Downloads/arLetters/ق\n",
      "ك : /Users/lena/Downloads/arLetters/ك\n",
      "ل : /Users/lena/Downloads/arLetters/ل\n",
      "لا : /Users/lena/Downloads/arLetters/لا\n",
      "م : /Users/lena/Downloads/arLetters/م\n",
      "ن : /Users/lena/Downloads/arLetters/ن\n",
      "ه : /Users/lena/Downloads/arLetters/ه\n",
      "و : /Users/lena/Downloads/arLetters/و\n",
      "ي : /Users/lena/Downloads/arLetters/ي\n",
      "Found 1985 ا examples\n",
      "Found 1985 ب examples\n",
      "Found 1985 ت examples\n",
      "Found 1985 ث examples\n",
      "Found 1985 ج examples\n",
      "Found 1985 ح examples\n",
      "Found 1985 خ examples\n",
      "Found 1985 د examples\n",
      "Found 1985 ذ examples\n",
      "Found 1985 ر examples\n",
      "Found 1985 ز examples\n",
      "Found 1985 س examples\n",
      "Found 1985 ش examples\n",
      "Found 1985 ص examples\n",
      "Found 1985 ض examples\n",
      "Found 1985 ط examples\n",
      "Found 1985 ظ examples\n",
      "Found 1985 ع examples\n",
      "Found 1985 غ examples\n",
      "Found 1985 ف examples\n",
      "Found 1985 ق examples\n",
      "Found 1985 ك examples\n",
      "Found 1985 ل examples\n",
      "Found 1985 لا examples\n",
      "Found 1985 م examples\n",
      "Found 1985 ن examples\n",
      "Found 1985 ه examples\n",
      "Found 1985 و examples\n",
      "Found 1985 ي examples\n"
     ]
    }
   ],
   "source": [
    "train_dirs = {}\n",
    "for i in range(len(class_names)):\n",
    "    if(class_names[i] != 'test'):\n",
    "        train_dirs[class_names[i]] = os.path.join(root_dir, class_names[i])\n",
    "\n",
    "f = lambda *x: None; \n",
    "f( *( print( x,\":\",y ) for x,y in train_dirs.items() ) )\n",
    "train_dataset = ARLettersDataset(train_dirs, train_transform)"
   ]
  },
  {
   "cell_type": "code",
   "execution_count": 7,
   "id": "bfbe3ba2",
   "metadata": {},
   "outputs": [
    {
     "name": "stdout",
     "output_type": "stream",
     "text": [
      "ا : /Users/lena/Downloads/arLetters/test/ا\n",
      "ب : /Users/lena/Downloads/arLetters/test/ب\n",
      "ت : /Users/lena/Downloads/arLetters/test/ت\n",
      "ث : /Users/lena/Downloads/arLetters/test/ث\n",
      "ج : /Users/lena/Downloads/arLetters/test/ج\n",
      "ح : /Users/lena/Downloads/arLetters/test/ح\n",
      "خ : /Users/lena/Downloads/arLetters/test/خ\n",
      "د : /Users/lena/Downloads/arLetters/test/د\n",
      "ذ : /Users/lena/Downloads/arLetters/test/ذ\n",
      "ر : /Users/lena/Downloads/arLetters/test/ر\n",
      "ز : /Users/lena/Downloads/arLetters/test/ز\n",
      "س : /Users/lena/Downloads/arLetters/test/س\n",
      "ش : /Users/lena/Downloads/arLetters/test/ش\n",
      "ص : /Users/lena/Downloads/arLetters/test/ص\n",
      "ض : /Users/lena/Downloads/arLetters/test/ض\n",
      "ط : /Users/lena/Downloads/arLetters/test/ط\n",
      "ظ : /Users/lena/Downloads/arLetters/test/ظ\n",
      "ع : /Users/lena/Downloads/arLetters/test/ع\n",
      "غ : /Users/lena/Downloads/arLetters/test/غ\n",
      "ف : /Users/lena/Downloads/arLetters/test/ف\n",
      "ق : /Users/lena/Downloads/arLetters/test/ق\n",
      "ك : /Users/lena/Downloads/arLetters/test/ك\n",
      "ل : /Users/lena/Downloads/arLetters/test/ل\n",
      "لا : /Users/lena/Downloads/arLetters/test/لا\n",
      "م : /Users/lena/Downloads/arLetters/test/م\n",
      "ن : /Users/lena/Downloads/arLetters/test/ن\n",
      "ه : /Users/lena/Downloads/arLetters/test/ه\n",
      "و : /Users/lena/Downloads/arLetters/test/و\n",
      "ي : /Users/lena/Downloads/arLetters/test/ي\n",
      "Found 496 ا examples\n",
      "Found 496 ب examples\n",
      "Found 496 ت examples\n",
      "Found 496 ث examples\n",
      "Found 496 ج examples\n",
      "Found 496 ح examples\n",
      "Found 496 خ examples\n",
      "Found 496 د examples\n",
      "Found 496 ذ examples\n",
      "Found 496 ر examples\n",
      "Found 496 ز examples\n",
      "Found 496 س examples\n",
      "Found 496 ش examples\n",
      "Found 496 ص examples\n",
      "Found 496 ض examples\n",
      "Found 496 ط examples\n",
      "Found 496 ظ examples\n",
      "Found 496 ع examples\n",
      "Found 496 غ examples\n",
      "Found 496 ف examples\n",
      "Found 496 ق examples\n",
      "Found 496 ك examples\n",
      "Found 496 ل examples\n",
      "Found 496 لا examples\n",
      "Found 496 م examples\n",
      "Found 496 ن examples\n",
      "Found 496 ه examples\n",
      "Found 496 و examples\n",
      "Found 496 ي examples\n"
     ]
    }
   ],
   "source": [
    "test_dirs = {}\n",
    "for i in range(len(class_names)):\n",
    "    if(class_names[i] != 'test'):\n",
    "        test_dirs[class_names[i]] = os.path.join(root_dir, \"test\", class_names[i])\n",
    "\n",
    "f = lambda *x: None; \n",
    "f( *( print( x,\":\",y ) for x,y in test_dirs.items() ) )\n",
    "\n",
    "test_dataset = ARLettersDataset(test_dirs, test_transform)"
   ]
  },
  {
   "cell_type": "markdown",
   "id": "69d46f5a",
   "metadata": {},
   "source": [
    "<h3 style=\"color:#000000;\">  Calculating Batches </h3>\n"
   ]
  },
  {
   "cell_type": "code",
   "execution_count": 8,
   "id": "4c2582bb",
   "metadata": {},
   "outputs": [
    {
     "name": "stdout",
     "output_type": "stream",
     "text": [
      "Number of training batches 450\n",
      "Number of test batches 113\n"
     ]
    }
   ],
   "source": [
    "batch_size = 128\n",
    "\n",
    "dl_train = torch.utils.data.DataLoader(train_dataset, batch_size=batch_size, shuffle=True)\n",
    "dl_test = torch.utils.data.DataLoader(test_dataset, batch_size=batch_size, shuffle=True)\n",
    "\n",
    "print('Number of training batches', len(dl_train))\n",
    "print('Number of test batches', len(dl_test))"
   ]
  },
  {
   "cell_type": "markdown",
   "id": "776d27bb",
   "metadata": {},
   "source": [
    "<h3 style=\"color:#000000;\">  Data Visualization </h3>\n"
   ]
  },
  {
   "cell_type": "code",
   "execution_count": 9,
   "id": "722493c4",
   "metadata": {},
   "outputs": [],
   "source": [
    "class_names = train_dataset.class_names\n",
    "\n",
    "\n",
    "def show_images(images, labels, preds):\n",
    "    plt.figure(figsize=(8, 4))\n",
    "    for i, image in enumerate(images[:6]):\n",
    "        plt.subplot(1, 7, i + 1, xticks=[], yticks=[])\n",
    "        image = image.numpy().transpose((1, 2, 0))\n",
    "        mean = np.array([0.5])\n",
    "        std = np.array([0.5])\n",
    "        image = image * std + mean\n",
    "        image = np.clip(image, 0., 1.)\n",
    "        plt.imshow(image, cmap='gray')\n",
    "        col = 'green'\n",
    "        if preds[i] != labels[i]:\n",
    "            col = 'red'\n",
    "            \n",
    "        plt.xlabel(f'{class_names[int(labels[i].numpy())]}')\n",
    "        plt.ylabel(f'{class_names[int(preds[i].numpy())]}', color=col)\n",
    "    plt.tight_layout()\n",
    "    plt.show()"
   ]
  },
  {
   "cell_type": "code",
   "execution_count": 12,
   "id": "94fccbc5",
   "metadata": {},
   "outputs": [
    {
     "data": {
      "image/png": "[encoded data removed]",
      "text/plain": [
       "<Figure size 576x288 with 6 Axes>"
      ]
     },
     "metadata": {},
     "output_type": "display_data"
    },
    {
     "name": "stdout",
     "output_type": "stream",
     "text": [
      "torch.Size([128, 1, 32, 32])\n"
     ]
    }
   ],
   "source": [
    "import os\n",
    "os.environ['KMP_DUPLICATE_LIB_OK']='True'\n",
    "images, labels = next(iter(dl_train))\n",
    "show_images(images, labels, labels)\n",
    "print(images.shape)"
   ]
  },
  {
   "cell_type": "code",
   "execution_count": 13,
   "id": "eef775b7",
   "metadata": {},
   "outputs": [
    {
     "data": {
      "image/png": "[encoded data removed]",
      "text/plain": [
       "<Figure size 576x288 with 6 Axes>"
      ]
     },
     "metadata": {},
     "output_type": "display_data"
    }
   ],
   "source": [
    "images, labels = next(iter(dl_test))\n",
    "show_images(images, labels, labels)"
   ]
  },
  {
   "cell_type": "markdown",
   "id": "459cfdab",
   "metadata": {},
   "source": [
    "<h3 style=\"color:#000000;\">  Creating the Model </h3>\n"
   ]
  },
  {
   "cell_type": "code",
   "execution_count": 19,
   "id": "fde4c334",
   "metadata": {
    "scrolled": true
   },
   "outputs": [],
   "source": [
    "#model inspired by this source: https://www.kaggle.com/code/abublihi/arabic-handwriting-letters-recognition-pytorch\n",
    "class ConvolutionNNetwork(nn.Module):\n",
    "    def __init__(self):\n",
    "        super(ConvolutionNNetwork, self).__init__()\n",
    "        self.layer1 = nn.Sequential(\n",
    "            nn.Conv2d(1, 32, kernel_size=5, stride=1, padding=2),\n",
    "            nn.ReLU(),\n",
    "            nn.MaxPool2d(kernel_size=2, stride=2))\n",
    "        #############################\n",
    "        self.drop_out = nn.Dropout(0.25)\n",
    "        #############################\n",
    "        \n",
    "        self.layer2 = nn.Sequential(\n",
    "            nn.Conv2d(32, 64, kernel_size=5, stride=1, padding=2),\n",
    "            nn.ReLU(),\n",
    "            nn.MaxPool2d(kernel_size=2, stride=2))\n",
    "\n",
    "        self.drop_out = nn.Dropout()\n",
    "        self.fc1 = nn.Linear(4096, 1000)\n",
    "\n",
    "        #############################\n",
    "        self.drop_out = nn.Dropout(0.5)\n",
    "        #############################\n",
    "        self.fc2 = nn.Linear(1000, 29)\n",
    "        \n",
    "    def forward(self, x):\n",
    "        out = self.layer1(x)\n",
    "        out = self.layer2(out)\n",
    "        out = out.reshape(out.size(0), -1)\n",
    "        out = self.drop_out(out)\n",
    "        out = self.fc1(out)\n",
    "        out = self.fc2(out)\n",
    "        return out\n"
   ]
  },
  {
   "cell_type": "code",
   "execution_count": 20,
   "id": "c5d53653",
   "metadata": {},
   "outputs": [],
   "source": [
    "# Train the model\n",
    "# num_epochs = 32\n",
    "num_epochs = 5\n",
    "\n",
    "learning_rate = 0.001\n",
    "# learning_rate = 1.0\n",
    "# learning_rate = 0.1\n",
    "\n",
    "total_step = len(dl_train)\n",
    "loss_list = []\n",
    "acc_list = []\n",
    "model = ConvolutionNNetwork()\n",
    "optimizer = torch.optim.Adam(model.parameters(), lr=learning_rate, weight_decay=1e-5);\n",
    "criterion = nn.CrossEntropyLoss();"
   ]
  },
  {
   "cell_type": "code",
   "execution_count": 21,
   "id": "0c686194",
   "metadata": {},
   "outputs": [
    {
     "name": "stdout",
     "output_type": "stream",
     "text": [
      "Epoch [1/5], Step [100/450], Loss: 0.3591, Accuracy: 88.28%\n",
      "Epoch [1/5], Step [200/450], Loss: 0.0872, Accuracy: 97.66%\n",
      "Epoch [1/5], Step [300/450], Loss: 0.1481, Accuracy: 96.88%\n",
      "Epoch [1/5], Step [400/450], Loss: 0.0440, Accuracy: 97.66%\n",
      "Epoch [2/5], Step [100/450], Loss: 0.0626, Accuracy: 96.88%\n",
      "Epoch [2/5], Step [200/450], Loss: 0.0251, Accuracy: 99.22%\n",
      "Epoch [2/5], Step [300/450], Loss: 0.0806, Accuracy: 97.66%\n",
      "Epoch [2/5], Step [400/450], Loss: 0.0495, Accuracy: 97.66%\n",
      "Epoch [3/5], Step [100/450], Loss: 0.0248, Accuracy: 99.22%\n",
      "Epoch [3/5], Step [200/450], Loss: 0.0322, Accuracy: 99.22%\n",
      "Epoch [3/5], Step [300/450], Loss: 0.0457, Accuracy: 99.22%\n",
      "Epoch [3/5], Step [400/450], Loss: 0.0186, Accuracy: 99.22%\n",
      "Epoch [4/5], Step [100/450], Loss: 0.0070, Accuracy: 100.00%\n",
      "Epoch [4/5], Step [200/450], Loss: 0.0489, Accuracy: 98.44%\n",
      "Epoch [4/5], Step [300/450], Loss: 0.0293, Accuracy: 99.22%\n",
      "Epoch [4/5], Step [400/450], Loss: 0.0595, Accuracy: 98.44%\n",
      "Epoch [5/5], Step [100/450], Loss: 0.1007, Accuracy: 96.09%\n",
      "Epoch [5/5], Step [200/450], Loss: 0.0274, Accuracy: 99.22%\n",
      "Epoch [5/5], Step [300/450], Loss: 0.0547, Accuracy: 97.66%\n",
      "Epoch [5/5], Step [400/450], Loss: 0.1761, Accuracy: 96.88%\n"
     ]
    }
   ],
   "source": [
    "def show_preds():\n",
    "    model.eval()\n",
    "    images, labels = next(iter(dl_test))\n",
    "    outputs = model(images)\n",
    "    _, preds = torch.max(outputs, 1)\n",
    "    show_images(images, labels, preds)\n",
    "    \n",
    "    \n",
    "for epoch in range(num_epochs):\n",
    "    for i, (images, labels) in enumerate(dl_train):\n",
    "        outputs = model(images)\n",
    "        loss = criterion(outputs, labels)\n",
    "        loss_list.append(loss.item())\n",
    "\n",
    "        # Backprop and perform Adam optimisation\n",
    "        optimizer.zero_grad()\n",
    "        loss.backward()\n",
    "        optimizer.step()\n",
    "\n",
    "        # Track the accuracy\n",
    "        total = labels.size(0)\n",
    "        _, predicted = torch.max(outputs.data, 1)\n",
    "        correct = (predicted == labels).sum().item()\n",
    "        acc_list.append(correct / total)\n",
    "\n",
    "        if (i + 1) % 100 == 0:\n",
    "            print('Epoch [{}/{}], Step [{}/{}], Loss: {:.4f}, Accuracy: {:.2f}%'\n",
    "                  .format(epoch + 1, num_epochs, i + 1, total_step, loss.item(),\n",
    "                          (correct / total) * 100))\n",
    "torch.save(model.state_dict(), \"/Users/lena/Downloads/\" + 'arlett_net_model.ckpt')\n"
   ]
  },
  {
   "cell_type": "code",
   "execution_count": 22,
   "id": "70e41520",
   "metadata": {},
   "outputs": [
    {
     "name": "stdout",
     "output_type": "stream",
     "text": [
      "Test Accuracy of the model on test images: 99.26307007786428 %\n"
     ]
    }
   ],
   "source": [
    "model.eval()\n",
    "with torch.no_grad():\n",
    "    correct = 0\n",
    "    total = 0\n",
    "    for (images, labels) in dl_test:\n",
    "        outputs = model(images)\n",
    "        _, predicted = torch.max(outputs.data, 1)\n",
    "        total += labels.size(0)\n",
    "        correct += (predicted == labels).sum().item()\n",
    "\n",
    "    print('Test Accuracy of the model on test images: {} %'.format((correct / total) * 100))"
   ]
  },
  {
   "cell_type": "code",
   "execution_count": 23,
   "id": "89b32231",
   "metadata": {},
   "outputs": [
    {
     "data": {
      "image/png": "[encoded data removed]",
      "text/plain": [
       "<Figure size 576x288 with 6 Axes>"
      ]
     },
     "metadata": {},
     "output_type": "display_data"
    },
    {
     "data": {
      "image/png": "[encoded data removed]",
      "text/plain": [
       "<Figure size 576x288 with 6 Axes>"
      ]
     },
     "metadata": {},
     "output_type": "display_data"
    }
   ],
   "source": [
    "def show_preds():\n",
    "    model.eval()\n",
    "    images, labels = next(iter(dl_test))\n",
    "    outputs = model(images)\n",
    "    _, preds = torch.max(outputs, 1)\n",
    "    show_images(images, labels, preds)\n",
    "    \n",
    "show_preds()\n",
    "show_preds()\n"
   ]
  },
  {
   "cell_type": "code",
   "execution_count": 107,
   "id": "9671aa5f",
   "metadata": {},
   "outputs": [
    {
     "name": "stdout",
     "output_type": "stream",
     "text": [
      "b'<plain_txt_msg:img>iVBORw0KGgoAAAANSUhEUgAAAAUAAAAWCAAAAAAtRgkMAAAAL0lEQVQIHRXBAQEAAAiDMOgfGv0mIy+BkJe85CUveclLXiZhPAmUkZGRkZGRkZE5crsNDN+lPX8AAAAASUVORK5CYII=<!plain_txt_msg>'\n",
      "ل 1.0\n",
      "<class 'float'>\n"
     ]
    }
   ],
   "source": [
    "import torchvision.transforms as transforms\n",
    "import torchvision.datasets as datasets\n",
    "import torch\n",
    "from PIL import Image\n",
    "import matplotlib.pyplot as plt\n",
    "import numpy as np\n",
    "import base64\n",
    "import io\n",
    "import sys\n",
    "\n",
    "# sys.setrecursionlimit(10000)\n",
    "\n",
    "with open(f\"/Users/lena/Downloads/arlett_net_model.ckpt\", \"rb\") as f:\n",
    "    checkpoint = torch.load(f)\n",
    "    state_dict = model.state_dict()\n",
    "    for k1, k2 in zip(state_dict.keys(), checkpoint.keys()):\n",
    "        state_dict[k1] = checkpoint[k2]\n",
    "    model.load_state_dict(state_dict)\n",
    "\n",
    "classes = ['ا', 'ب', 'ت', 'ث', 'ج', 'ح', 'خ', 'د', 'ذ', 'ر', 'ز', 'س', 'ش', 'ص', 'ض', 'ط', 'ظ', 'ع', 'غ', 'ف', 'ق', 'ك', 'ل', 'لا', 'م', 'ن', 'ه', 'و', 'ي']\n",
    "\n",
    "def img_to_txt(filename):\n",
    "    msg = b\"<plain_txt_msg:img>\"\n",
    "    with open(filename, \"rb\") as imageFile:\n",
    "        msg = msg + base64.b64encode(imageFile.read())\n",
    "    msg = msg + b\"<!plain_txt_msg>\"\n",
    "    return msg\n",
    "\n",
    "def decode_img(msg):\n",
    "#     msg = msg[msg.find(b\"<plain_txt_msg:img>\")+len(b\"<plain_txt_msg:img>\"):\n",
    "#               msg.find(b\"<!plain_txt_msg>\")]\n",
    "    msg = base64.b64decode(msg)\n",
    "#     msg = base64.decodestring(msg).decode('utf-8')\n",
    "\n",
    "#     msg = base64url_decode(msg.encode('utf-8'))\n",
    "    buf = io.BytesIO(msg)\n",
    "    img = Image.open(buf)\n",
    "    return img\n",
    "\n",
    "def pre_image(img):\n",
    "    \n",
    "    img = decode_img(img)\n",
    "    imgnp = np.asarray(img)\n",
    "    if(imgnp.shape[0] > 1):\n",
    "        if(imgnp.shape[0] > 3):\n",
    "            img = img.convert('RGB')\n",
    "\n",
    "        transform_norm = transforms.Compose([transforms.Resize((32,32)), transforms.ToTensor(), transforms.Normalize([0.5], [0.5]), transforms.Grayscale()])\n",
    "    else:\n",
    "        transform_norm = transforms.Compose([transforms.Resize((32,32)), transforms.ToTensor(), transforms.Normalize([0.5], [0.5])])\n",
    "    \n",
    "    img_normalized = transform_norm(img)\n",
    "\n",
    "\n",
    "    img_normalized = img_normalized.unsqueeze_(0)\n",
    "\n",
    "    with torch.no_grad():\n",
    "        model.eval()  \n",
    "        output = model(img_normalized)\n",
    "        index = output.data.cpu().numpy().argmax()\n",
    "        probs = torch.softmax(output, dim=1)\n",
    "        probs = probs[0][index].tolist()\n",
    "        probs = round(probs, 2)\n",
    "\n",
    "        class_name = classes[index]\n",
    "        return class_name, probs\n",
    "\n",
    "\n",
    "filename = '/Users/lena/Downloads/arLetters/test/ل/1063.png'\n",
    "\n",
    "msg = img_to_txt(filename)\n",
    "print(msg)\n",
    "class_name, prob = pre_image(\"iVBORw0KGgoAAAANSUhEUgAAAAUAAAAWCAAAAAAtRgkMAAAAL0lEQVQIHRXBAQEAAAiDMOgfGv0mIy+BkJe85CUveclLXiZhPAmUkZGRkZGRkZE5crsNDN+lPX8AAAAASUVORK5CYII=\")\n",
    "print(class_name, prob)\n",
    "print(type(prob))\n"
   ]
  },
  {
   "cell_type": "code",
   "execution_count": null,
   "id": "749a32e4",
   "metadata": {},
   "outputs": [],
   "source": []
  }
 ],
 "metadata": {
  "kernelspec": {
   "display_name": "Python 3 (ipykernel)",
   "language": "python",
   "name": "python3"
  },
  "language_info": {
   "codemirror_mode": {
    "name": "ipython",
    "version": 3
   },
   "file_extension": ".py",
   "mimetype": "text/x-python",
   "name": "python",
   "nbconvert_exporter": "python",
   "pygments_lexer": "ipython3",
   "version": "3.7.4"
  }
 },
 "nbformat": 4,
 "nbformat_minor": 5
}
